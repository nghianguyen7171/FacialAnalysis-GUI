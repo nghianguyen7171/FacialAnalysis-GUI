{
  "nbformat": 4,
  "nbformat_minor": 0,
  "metadata": {
    "colab": {
      "name": "CropHarvest.ipynb",
      "provenance": [],
      "collapsed_sections": [],
      "include_colab_link": true
    },
    "kernelspec": {
      "name": "python3",
      "display_name": "Python 3"
    },
    "language_info": {
      "name": "python"
    },
    "accelerator": "GPU"
  },
  "cells": [
    {
      "cell_type": "markdown",
      "metadata": {
        "id": "view-in-github",
        "colab_type": "text"
      },
      "source": [
        "<a href=\"https://colab.research.google.com/github/nghianguyen7171/FacialAnalysis-GUI/blob/main/CropHarvest.ipynb\" target=\"_parent\"><img src=\"https://colab.research.google.com/assets/colab-badge.svg\" alt=\"Open In Colab\"/></a>"
      ]
    },
    {
      "cell_type": "markdown",
      "source": [
        "---\n",
        "```\n",
        "Author: Van-Thong Huynh\n",
        "Affiliation: Dept. of AI Convergence, Chonnam Nat'l Univ.\n",
        "```\n",
        "\n",
        "---"
      ],
      "metadata": {
        "id": "KqlwRd0Z0nh8"
      }
    },
    {
      "cell_type": "code",
      "source": [
        "!pip install -qq cropharvest tensorflow-addons"
      ],
      "metadata": {
        "id": "FUwuKfbp1ClX"
      },
      "execution_count": null,
      "outputs": []
    },
    {
      "cell_type": "code",
      "execution_count": null,
      "metadata": {
        "id": "tMaog4tW0dvA"
      },
      "outputs": [],
      "source": [
        "import numpy as np\n",
        "from cropharvest.datasets import CropHarvest\n",
        "import tensorflow as tf\n",
        "from tensorflow import keras\n",
        "from keras import layers\n",
        "from keras.losses import BinaryCrossentropy, BinaryFocalCrossentropy\n",
        "from tensorflow_addons.metrics import F1Score\n",
        "from keras.models import clone_model\n",
        "from keras.callbacks import ModelCheckpoint\n",
        "from keras import utils\n",
        "import pathlib\n",
        "from sklearn.model_selection import StratifiedKFold\n",
        "import random, os\n",
        "from sklearn.feature_selection import SelectKBest\n",
        "\n",
        "def set_seed(seed=1):\n",
        "    # utils.set_random_seed(seed)\n",
        "    random.seed(seed)\n",
        "    np.random.seed(seed)\n",
        "    tf.random.set_seed(seed)\n",
        "    tf.config.experimental.enable_op_determinism()\n",
        "\n",
        "set_seed(101)\n",
        "DATA_DIR = './'"
      ]
    },
    {
      "cell_type": "code",
      "source": [
        "def load_data(data_dir, kenya_only=True, flatten_x=False, return_test=False):\n",
        "    evaluation_datasets = CropHarvest.create_benchmark_datasets(data_dir)\n",
        "    if return_test:\n",
        "        return evaluation_datasets[0].test_data(flatten_x=flatten_x)\n",
        "\n",
        "    if kenya_only:\n",
        "        kenya_dataset = evaluation_datasets[0]\n",
        "        x_train, y_train = kenya_dataset.as_array(flatten_x=flatten_x)\n",
        "    else:\n",
        "        x_train = []\n",
        "        y_train = []\n",
        "        for idx in range(3):\n",
        "            cur_x_train, cur_y_train = evaluation_datasets[idx].as_array(flatten_x=flatten_x)\n",
        "            x_train.append(cur_x_train)\n",
        "            y_train.append(cur_y_train)\n",
        "\n",
        "    return x_train, y_train\n",
        "\n",
        "def generate_test_prediction(test_model, save_path='./'):\n",
        "    test_data = load_data(DATA_DIR, kenya_only=True, flatten_x=False, return_test=True)\n",
        "    for test_id, test_instance in test_data:\n",
        "        os.makedirs(os.path.join(save_path, 'prediction'), exist_ok=True)\n",
        "        results_nc = os.path.join(save_path, 'prediction/{}.nc'.format(test_id))\n",
        "\n",
        "        x = test_instance.x\n",
        "        preds = test_model.predict(x)\n",
        "\n",
        "        ds = test_instance.to_xarray(preds.flatten())\n",
        "        ds.to_netcdf(results_nc)"
      ],
      "metadata": {
        "id": "V2CGPTg-1MST"
      },
      "execution_count": null,
      "outputs": []
    },
    {
      "cell_type": "markdown",
      "source": [
        "## Define models and model utils"
      ],
      "metadata": {
        "id": "TDovzJCdF2Jx"
      }
    },
    {
      "cell_type": "code",
      "source": [
        "def set_gpu_growth():\n",
        "    gpus = tf.config.list_physical_devices('GPU')\n",
        "    if gpus:\n",
        "        # Restrict TensorFlow to only use the first GPU\n",
        "        try:\n",
        "            tf.config.set_visible_devices(gpus[0], 'GPU')\n",
        "            tf.config.experimental.set_memory_growth(gpus[0], True)\n",
        "            logical_gpus = tf.config.list_logical_devices('GPU')\n",
        "            print(len(gpus), \"Physical GPUs,\", len(logical_gpus), \"Logical GPU\")\n",
        "        except RuntimeError as e:\n",
        "            # Visible devices must be set before GPUs have been initialized\n",
        "            print(e)\n",
        "\n",
        "def create_model(seq_len=12, input_dim=18, num_hid=128, num_layers=2, dropout=0.2, kernel_initializer='he_normal', num_classes=1, output_bias=None):\n",
        "    model = keras.Sequential()\n",
        "    model.add(layers.InputLayer(input_shape=(seq_len, input_dim)))\n",
        "    \n",
        "    for idx in range(num_layers):\n",
        "        return_seq = True if idx < num_layers-1 else False\n",
        "        model.add(layers.LSTM(units=num_hid, return_sequences=return_seq, dropout=dropout))\n",
        "\n",
        "    model.add(layers.Dense(num_hid*2, activation='relu', kernel_initializer=kernel_initializer))\n",
        "    model.add(layers.Dropout(dropout))\n",
        "    # model.add(layers.GlobalAveragePooling1D())\n",
        "    model.add(layers.Dense(num_classes, activation='linear', kernel_initializer=kernel_initializer, bias_initializer=output_bias))\n",
        "    model.build()\n",
        "    return model\n",
        "\n",
        "def build_model(input_dim=18, optim='rmsprop', lr=0.001, num_classes=1, model=None, build=True, output_bias=None):\n",
        "    if model is None:\n",
        "        model = create_model(seq_len=12, input_dim=input_dim, num_hid=128, num_layers=2, dropout=0., num_classes=1, output_bias=output_bias)\n",
        "\n",
        "    if not build:\n",
        "        return model\n",
        "\n",
        "    if optim == 'rmsprop':\n",
        "        print('Use RMSprop optimizer')\n",
        "        opt = keras.optimizers.RMSprop(learning_rate=lr)\n",
        "    else:\n",
        "        print('Use Adam optimizer')\n",
        "        opt = keras.optimizers.Adam(learning_rate=lr)\n",
        "\n",
        "    loss_fn = BinaryCrossentropy(from_logits=True)\n",
        "    metric_fn = F1Score(num_classes=num_classes, name='f1_score', threshold=0.5, average='macro')\n",
        "    model.compile(loss=loss_fn, optimizer=opt, metrics=metric_fn)\n",
        "    return model\n",
        "\n",
        "def run_kfold(X, y, input_dim=18, num_fold=5, bsz=32, n_epochs=30):\n",
        "    skf = StratifiedKFold(n_splits=num_fold, shuffle=True)\n",
        "    \n",
        "    kfold_models = []\n",
        "    kfold_history = []\n",
        "    kfold_scores = []\n",
        "    outputs = []\n",
        "    optim_ = 'rmsprop'\n",
        "    \n",
        "    # Create model and save inited weights\n",
        "    base_model = build_model(input_dim=input_dim, optim=optim_, lr=0.001, num_classes=1, build=False, )\n",
        "    init_weights = base_model.get_weights()  # Save inited weights\n",
        "\n",
        "    fold_idx = 1\n",
        "    for train_index, test_index in skf.split(X, y):\n",
        "        print('Running on fold {}'.format(fold_idx))\n",
        "        X_train, X_val = X[train_index], X[test_index]\n",
        "        y_train, y_val = y[train_index].reshape(-1, 1), y[test_index].reshape(-1, 1)\n",
        "\n",
        "        num_pos = np.count_nonzero(y_train.flatten())\n",
        "        num_neg = len(y_train) - num_pos\n",
        "        class_weight = {0: (1 / num_neg) * (len(y_train) / 2.0), 1: (1 / num_pos) * (len(y_train) / 2.0)}\n",
        "\n",
        "        # Reset model weight and compile\n",
        "        cur_model = build_model(input_dim=input_dim, optim=optim_, lr=0.001, num_classes=1,)\n",
        "        cur_model.set_weights(init_weights)\n",
        "\n",
        "        best_ckpt_path = f'./ckpts/fold_{fold_idx}/checkpoint'\n",
        "        os.makedirs(f'./ckpts/fold_{fold_idx}', exist_ok=True)\n",
        "\n",
        "        ckpt_callbacks = ModelCheckpoint(best_ckpt_path, save_best_only=True, save_weights_only=True, monitor='val_f1_score', mode='max')\n",
        "        # Fitting\n",
        "        his = cur_model.fit(X_train, y_train, batch_size=bsz, epochs=n_epochs, validation_data=(X_val, y_val), verbose=0, callbacks=[ckpt_callbacks],\n",
        "                            class_weight=class_weight)\n",
        "        kfold_history.append(his)\n",
        "        # Evaluating\n",
        "        cur_model.load_weights(best_ckpt_path)\n",
        "        fold_eval = cur_model.evaluate(X_val, y_val)\n",
        "        kfold_scores.append(fold_eval[-1])\n",
        "\n",
        "        outputs.append([y_val, cur_model.predict(X_val)])\n",
        "        kfold_models.append(best_ckpt_path)\n",
        "        fold_idx += 1\n",
        "\n",
        "    print('Mean F1: {}. Std F1: {}. Best: {}'.format(np.mean(kfold_scores), np.std(kfold_scores), np.max(kfold_scores)))\n",
        "    return kfold_history, outputs"
      ],
      "metadata": {
        "id": "5joPYI_R2OeM"
      },
      "execution_count": null,
      "outputs": []
    },
    {
      "cell_type": "markdown",
      "source": [
        "## Get data"
      ],
      "metadata": {
        "id": "nlVxZc_-F5o5"
      }
    },
    {
      "cell_type": "code",
      "source": [
        "x_train, y_train = load_data(DATA_DIR, kenya_only=True, flatten_x=False)"
      ],
      "metadata": {
        "id": "whKVcuTrFviR"
      },
      "execution_count": null,
      "outputs": []
    },
    {
      "cell_type": "code",
      "source": [
        "from sklearn.feature_selection import RFE\n",
        "from sklearn.svm import SVC\n",
        "\n",
        "x_train_mean = np.mean(x_train, axis=1)\n",
        "estimator = SVC(kernel=\"linear\")\n",
        "selector = RFE(estimator, n_features_to_select=8, step=16)\n",
        "selector = selector.fit(x_train_mean, y_train)\n",
        "sel_idx = [int(x[1:]) for x in selector.get_feature_names_out()]\n",
        "print(sel_idx)"
      ],
      "metadata": {
        "colab": {
          "base_uri": "https://localhost:8080/"
        },
        "id": "-Yh4yOie-yO1",
        "outputId": "b236f870-325c-4640-8e9c-245919342347"
      },
      "execution_count": null,
      "outputs": [
        {
          "output_type": "stream",
          "name": "stdout",
          "text": [
            "[2, 3, 4, 5, 6, 8, 10, 17]\n"
          ]
        }
      ]
    },
    {
      "cell_type": "markdown",
      "source": [
        "## Running"
      ],
      "metadata": {
        "id": "d2iF0QcrF9K7"
      }
    },
    {
      "cell_type": "code",
      "source": [
        "run_history, fold_outputs = run_kfold(x_train[:, :, :], y_train, input_dim=18, num_fold=5, bsz=32, n_epochs=30)"
      ],
      "metadata": {
        "colab": {
          "base_uri": "https://localhost:8080/"
        },
        "id": "YnGgVwpQ4Gqp",
        "outputId": "df0ad7ed-8218-431b-c24a-f8dadcd33e2d"
      },
      "execution_count": null,
      "outputs": [
        {
          "output_type": "stream",
          "name": "stdout",
          "text": [
            "Running on fold 1\n",
            "Use RMSprop optimizer\n",
            "9/9 [==============================] - 0s 4ms/step - loss: 0.4447 - f1_score: 0.7092\n",
            "Running on fold 2\n",
            "Use RMSprop optimizer\n",
            "9/9 [==============================] - 0s 4ms/step - loss: 0.2871 - f1_score: 0.7742\n",
            "Running on fold 3\n",
            "Use RMSprop optimizer\n",
            "9/9 [==============================] - 0s 4ms/step - loss: 0.3770 - f1_score: 0.7966\n",
            "Running on fold 4\n",
            "Use RMSprop optimizer\n",
            "9/9 [==============================] - 0s 4ms/step - loss: 0.3366 - f1_score: 0.7424\n",
            "Running on fold 5\n",
            "Use RMSprop optimizer\n",
            "9/9 [==============================] - 0s 4ms/step - loss: 0.2701 - f1_score: 0.7846\n",
            "Mean F1: 0.7614126205444336. Std F1: 0.03170246968032412. Best: 0.7966101765632629\n"
          ]
        }
      ]
    },
    {
      "cell_type": "code",
      "source": [
        "np.min(x_train_mean)"
      ],
      "metadata": {
        "colab": {
          "base_uri": "https://localhost:8080/"
        },
        "id": "qV18C3vtBQgy",
        "outputId": "6e28eafd-31db-486a-cdb4-70d76fce62ce"
      },
      "execution_count": null,
      "outputs": [
        {
          "output_type": "execute_result",
          "data": {
            "text/plain": [
              "-3.9081658585624357"
            ]
          },
          "metadata": {},
          "execution_count": 20
        }
      ]
    },
    {
      "cell_type": "code",
      "source": [
        "# f_classif [2, 3, 4, 5, 12, 14, 16, 17]\n"
      ],
      "metadata": {
        "id": "M7APYgeVKOKb"
      },
      "execution_count": null,
      "outputs": []
    },
    {
      "cell_type": "code",
      "source": [
        "# Running on fold 1\n",
        "# Use Adam optimizer\n",
        "# Class weight:  {0: 0.6235224586288416, 1: 2.5239234449760763}\n",
        "# 9/9 [==============================] - 0s 4ms/step - loss: 0.3345 - f1_score: 0.7231\n",
        "# 42/42 [==============================] - 1s 4ms/step - loss: 0.2613 - f1_score: 0.7844\n",
        "# Running on fold 2\n",
        "# Use Adam optimizer\n",
        "# Class weight:  {0: 0.6235224586288416, 1: 2.5239234449760763}\n",
        "# 9/9 [==============================] - 0s 4ms/step - loss: 0.3535 - f1_score: 0.7480\n",
        "# 42/42 [==============================] - 1s 4ms/step - loss: 0.2400 - f1_score: 0.8051\n",
        "# Running on fold 3\n",
        "# Use Adam optimizer\n",
        "# Class weight:  {0: 0.6242603550295858, 1: 2.5119047619047623}\n",
        "# 9/9 [==============================] - 0s 5ms/step - loss: 0.3292 - f1_score: 0.7556\n",
        "# 42/42 [==============================] - 1s 4ms/step - loss: 0.2780 - f1_score: 0.7736\n",
        "# Running on fold 4\n",
        "# Use Adam optimizer\n",
        "# Class weight:  {0: 0.6242603550295858, 1: 2.5119047619047623}\n",
        "# 9/9 [==============================] - 0s 4ms/step - loss: 0.2649 - f1_score: 0.7840\n",
        "# 42/42 [==============================] - 1s 5ms/step - loss: 0.2471 - f1_score: 0.7791\n",
        "# Running on fold 5\n",
        "# Use Adam optimizer\n",
        "# Class weight:  {0: 0.624113475177305, 1: 2.5142857142857147}\n",
        "# 9/9 [==============================] - 0s 4ms/step - loss: 0.3946 - f1_score: 0.7344\n",
        "# 42/42 [==============================] - 1s 4ms/step - loss: 0.2482 - f1_score: 0.8006"
      ],
      "metadata": {
        "id": "8moiWbSipNiw"
      },
      "execution_count": null,
      "outputs": []
    }
  ]
}